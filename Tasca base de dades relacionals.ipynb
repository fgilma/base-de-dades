{
 "cells": [
  {
   "cell_type": "markdown",
   "metadata": {},
   "source": [
    "# Nivell 1\n",
    "#### Exercici 1"
   ]
  },
  {
   "cell_type": "markdown",
   "metadata": {},
   "source": [
    "**Crea una base relacional d’exemple utilitzant un document de text o a mà. Dissenya-la perquè contingui les següents taules, i estableix les relacions que consideris necessàries entre elles:**\n",
    "\n",
    "\n",
    "**Defineix les propietats de les relacions (1:1, 1:n, n:n), i crea algunes de les variables que podrien contenir**"
   ]
  },
  {
   "cell_type": "markdown",
   "metadata": {},
   "source": [
    "La taula **Establiment** tindrà:\n",
    "-\t**ID**, serà una primary Key per identificar cada establiment.\n",
    "-\t**Nom**, el nom de la botiga.\n",
    "-\t**Localització**, la seva adreça.\n",
    "-\t**Superfície**, el metres quadrats de la botiga.\n",
    "\n",
    "La taula **Treballador** tindrà:\n",
    "-\t**ID**, serà una primary key que indentifiqui al treballador\n",
    "-\t**Nom**, el nom del treballador.\n",
    "-\t**Cognom**, el seu primer cognom.\n",
    "-\t**Càrrec**, el lloc que ocupa a l’organigrama de la companyia.\n",
    "-\t**Establiment**, a quina botiga treballa, serà una Foreign key vinculada a l’ID de la taula Establiment.\n",
    "\n",
    "La taula **Compra** tindrà:\n",
    "-\t**ID**, la primary Key que identifica la comanda.\n",
    "-\t**Total**, el preu total de la comanda, la suma agregada de tots els productes.\n",
    "-\t**Treballador**, el treballador que realitza la venda al client, que serà una Foreign Key vinculada a l’ID de Treballador.\n",
    "-\t**Client**, la persona que fa la compra. És una altra Foreign Key dirigida a l’ID de la taula Client.\n",
    "\n",
    "La taula **Producte**:\n",
    "-\t**ID**, la primary key del producte.\n",
    "-\t**Nom**, el nom del producte.\n",
    "-\t**Preu unitat**, el preu del producte unitari.\n",
    "-\t**Quantitat**, les unitats que hi ha al magatzem.\n",
    "-\t**Tipus**, el tipus del producte que será una Foreign key a l’ID de la taula Tipus.\n",
    "\n",
    "La relació entre producte i Compra és m:n per tant hem de crear una taula intermitja. que podem anomenar “Compra Detall”, i que tingui tots el productes que s’han realitzat en una compra o comanda. Les relacions de producte i compra amb \"Compra Detall\" seràn:\n",
    "\n",
    "![image1](bd1.png)\n",
    "La taula **“Compra Detall”**:\n",
    "-\t**ID**, la primary key de la taula\n",
    "-\t**Comanda**, a quina comanda pertany el producte comprat, serà una Foreign Key vinculada a l’ID de la taula Compra.\n",
    "-\t**Producte**, quin producte ha comprat el client, serà na Foreign Key vinculada a l’ID de la taula Producte.\n",
    "-\t**Unitats**,  les unitats per producte comprades\n",
    "-\t**Total**, seria el preu total obtingut a partir de les unitats comprades i el preu unitari de la taula Producte.\n",
    "\n",
    "Per últim , la taula **Tipus**:\n",
    "-\t**ID**, la primary key de la taula\n",
    "-\t**Tipus**, el nom amb el tipus de producte"
   ]
  },
  {
   "cell_type": "markdown",
   "metadata": {},
   "source": [
    "**Disseny**\n",
    "![image2](bd2.png)"
   ]
  },
  {
   "cell_type": "markdown",
   "metadata": {},
   "source": [
    "# Nivell 2\n",
    "#### Exercici 2\n",
    "Utilitza un programa de creació de diagrames entitat-relació com http://dia-installer.de per crear el diagrama."
   ]
  },
  {
   "cell_type": "markdown",
   "metadata": {},
   "source": [
    "![image3](bd3.png)"
   ]
  },
  {
   "cell_type": "markdown",
   "metadata": {},
   "source": [
    "Aquí ja l'hem afegit la taula compra detall que comentàvem"
   ]
  },
  {
   "cell_type": "markdown",
   "metadata": {},
   "source": [
    "# Nivell 3\n",
    "##### Exercici 3\n",
    "Utilitza el Workbench de MySQL per crear un diagrama entitat-relació. "
   ]
  },
  {
   "cell_type": "markdown",
   "metadata": {},
   "source": [
    "![imga4](bd4.png)\n",
    "Hem generat les Foreign keys (FK) necessàries per establir les relacions definides entre les taules:\n",
    "- Compra, té dues FK's:\n",
    "    - **ClientID** que està relacionada amb el ID de la taula Client.\n",
    "    - **TreballadorID** que està relacionada amb el ID de la taula Treballador.\n",
    "- Treballador té una FK:\n",
    "    - **EstablimentID** que vincula la taula Treballador amb el ID d'Establiment.\n",
    "- Compra Detall té dues FK's:\n",
    "    - **CompraID** relacionada amb el ID de la taula Compra, ens diu a quina comanda pertany cada producte comprat.\n",
    "    - **ProducteID** que relaciona la taula amb el ID de Producte.\n",
    "- Producte té una només:\n",
    "     - **TipusID**, vinculada amb el ID de la taula Producte"
   ]
  },
  {
   "cell_type": "code",
   "execution_count": null,
   "metadata": {},
   "outputs": [],
   "source": []
  }
 ],
 "metadata": {
  "kernelspec": {
   "display_name": "Python 3",
   "language": "python",
   "name": "python3"
  },
  "language_info": {
   "codemirror_mode": {
    "name": "ipython",
    "version": 3
   },
   "file_extension": ".py",
   "mimetype": "text/x-python",
   "name": "python",
   "nbconvert_exporter": "python",
   "pygments_lexer": "ipython3",
   "version": "3.7.4"
  }
 },
 "nbformat": 4,
 "nbformat_minor": 2
}
